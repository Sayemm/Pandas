{
 "cells": [
  {
   "cell_type": "code",
   "execution_count": 6,
   "metadata": {
    "scrolled": true
   },
   "outputs": [
    {
     "data": {
      "text/html": [
       "<div>\n",
       "<style scoped>\n",
       "    .dataframe tbody tr th:only-of-type {\n",
       "        vertical-align: middle;\n",
       "    }\n",
       "\n",
       "    .dataframe tbody tr th {\n",
       "        vertical-align: top;\n",
       "    }\n",
       "\n",
       "    .dataframe thead th {\n",
       "        text-align: right;\n",
       "    }\n",
       "</style>\n",
       "<table border=\"1\" class=\"dataframe\">\n",
       "  <thead>\n",
       "    <tr style=\"text-align: right;\">\n",
       "      <th></th>\n",
       "      <th>Open</th>\n",
       "      <th>High</th>\n",
       "      <th>Low</th>\n",
       "      <th>Close</th>\n",
       "      <th>Volume</th>\n",
       "    </tr>\n",
       "    <tr>\n",
       "      <th>Date</th>\n",
       "      <th></th>\n",
       "      <th></th>\n",
       "      <th></th>\n",
       "      <th></th>\n",
       "      <th></th>\n",
       "    </tr>\n",
       "  </thead>\n",
       "  <tbody>\n",
       "    <tr>\n",
       "      <td>2017-07-07</td>\n",
       "      <td>142.90</td>\n",
       "      <td>144.75</td>\n",
       "      <td>142.90</td>\n",
       "      <td>144.18</td>\n",
       "      <td>19201712</td>\n",
       "    </tr>\n",
       "    <tr>\n",
       "      <td>2017-07-06</td>\n",
       "      <td>143.02</td>\n",
       "      <td>143.50</td>\n",
       "      <td>142.41</td>\n",
       "      <td>142.73</td>\n",
       "      <td>24128782</td>\n",
       "    </tr>\n",
       "    <tr>\n",
       "      <td>2017-07-05</td>\n",
       "      <td>143.69</td>\n",
       "      <td>144.79</td>\n",
       "      <td>142.72</td>\n",
       "      <td>144.09</td>\n",
       "      <td>21569557</td>\n",
       "    </tr>\n",
       "    <tr>\n",
       "      <td>2017-07-03</td>\n",
       "      <td>144.88</td>\n",
       "      <td>145.30</td>\n",
       "      <td>143.10</td>\n",
       "      <td>143.50</td>\n",
       "      <td>14277848</td>\n",
       "    </tr>\n",
       "    <tr>\n",
       "      <td>2017-06-30</td>\n",
       "      <td>144.45</td>\n",
       "      <td>144.96</td>\n",
       "      <td>143.78</td>\n",
       "      <td>144.02</td>\n",
       "      <td>23024107</td>\n",
       "    </tr>\n",
       "  </tbody>\n",
       "</table>\n",
       "</div>"
      ],
      "text/plain": [
       "              Open    High     Low   Close    Volume\n",
       "Date                                                \n",
       "2017-07-07  142.90  144.75  142.90  144.18  19201712\n",
       "2017-07-06  143.02  143.50  142.41  142.73  24128782\n",
       "2017-07-05  143.69  144.79  142.72  144.09  21569557\n",
       "2017-07-03  144.88  145.30  143.10  143.50  14277848\n",
       "2017-06-30  144.45  144.96  143.78  144.02  23024107"
      ]
     },
     "execution_count": 6,
     "metadata": {},
     "output_type": "execute_result"
    }
   ],
   "source": [
    "import pandas as pd\n",
    "\n",
    "df = pd.read_csv(\"aapl.csv\", parse_dates = ['Date'], index_col = 'Date')\n",
    "\n",
    "df.head(5)"
   ]
  },
  {
   "cell_type": "code",
   "execution_count": 8,
   "metadata": {
    "scrolled": true
   },
   "outputs": [
    {
     "data": {
      "text/plain": [
       "DatetimeIndex(['2017-07-07', '2017-07-06', '2017-07-05', '2017-07-03',\n",
       "               '2017-06-30', '2017-06-29', '2017-06-28', '2017-06-27',\n",
       "               '2017-06-26', '2017-06-23',\n",
       "               ...\n",
       "               '2016-07-22', '2016-07-21', '2016-07-20', '2016-07-19',\n",
       "               '2016-07-18', '2016-07-15', '2016-07-14', '2016-07-13',\n",
       "               '2016-07-12', '2016-07-11'],\n",
       "              dtype='datetime64[ns]', name='Date', length=251, freq=None)"
      ]
     },
     "execution_count": 8,
     "metadata": {},
     "output_type": "execute_result"
    }
   ],
   "source": [
    "df.index"
   ]
  },
  {
   "cell_type": "code",
   "execution_count": 11,
   "metadata": {
    "scrolled": true
   },
   "outputs": [
    {
     "data": {
      "text/plain": [
       "119.57000000000001"
      ]
     },
     "execution_count": 11,
     "metadata": {},
     "output_type": "execute_result"
    }
   ],
   "source": [
    "df['2017-01'].Close.mean()"
   ]
  },
  {
   "cell_type": "code",
   "execution_count": 13,
   "metadata": {
    "scrolled": true
   },
   "outputs": [
    {
     "data": {
      "text/html": [
       "<div>\n",
       "<style scoped>\n",
       "    .dataframe tbody tr th:only-of-type {\n",
       "        vertical-align: middle;\n",
       "    }\n",
       "\n",
       "    .dataframe tbody tr th {\n",
       "        vertical-align: top;\n",
       "    }\n",
       "\n",
       "    .dataframe thead th {\n",
       "        text-align: right;\n",
       "    }\n",
       "</style>\n",
       "<table border=\"1\" class=\"dataframe\">\n",
       "  <thead>\n",
       "    <tr style=\"text-align: right;\">\n",
       "      <th></th>\n",
       "      <th>Open</th>\n",
       "      <th>High</th>\n",
       "      <th>Low</th>\n",
       "      <th>Close</th>\n",
       "      <th>Volume</th>\n",
       "    </tr>\n",
       "    <tr>\n",
       "      <th>Date</th>\n",
       "      <th></th>\n",
       "      <th></th>\n",
       "      <th></th>\n",
       "      <th></th>\n",
       "      <th></th>\n",
       "    </tr>\n",
       "  </thead>\n",
       "  <tbody>\n",
       "    <tr>\n",
       "      <td>2017-01-06</td>\n",
       "      <td>116.78</td>\n",
       "      <td>118.16</td>\n",
       "      <td>116.47</td>\n",
       "      <td>117.91</td>\n",
       "      <td>31751900</td>\n",
       "    </tr>\n",
       "    <tr>\n",
       "      <td>2017-01-05</td>\n",
       "      <td>115.92</td>\n",
       "      <td>116.86</td>\n",
       "      <td>115.81</td>\n",
       "      <td>116.61</td>\n",
       "      <td>22193587</td>\n",
       "    </tr>\n",
       "    <tr>\n",
       "      <td>2017-01-04</td>\n",
       "      <td>115.85</td>\n",
       "      <td>116.51</td>\n",
       "      <td>115.75</td>\n",
       "      <td>116.02</td>\n",
       "      <td>21118116</td>\n",
       "    </tr>\n",
       "    <tr>\n",
       "      <td>2017-01-03</td>\n",
       "      <td>115.80</td>\n",
       "      <td>116.33</td>\n",
       "      <td>114.76</td>\n",
       "      <td>116.15</td>\n",
       "      <td>28781865</td>\n",
       "    </tr>\n",
       "  </tbody>\n",
       "</table>\n",
       "</div>"
      ],
      "text/plain": [
       "              Open    High     Low   Close    Volume\n",
       "Date                                                \n",
       "2017-01-06  116.78  118.16  116.47  117.91  31751900\n",
       "2017-01-05  115.92  116.86  115.81  116.61  22193587\n",
       "2017-01-04  115.85  116.51  115.75  116.02  21118116\n",
       "2017-01-03  115.80  116.33  114.76  116.15  28781865"
      ]
     },
     "execution_count": 13,
     "metadata": {},
     "output_type": "execute_result"
    }
   ],
   "source": [
    "df['2017-01-07' : '2017-01-01']"
   ]
  },
  {
   "cell_type": "code",
   "execution_count": 14,
   "metadata": {
    "scrolled": false
   },
   "outputs": [
    {
     "data": {
      "text/plain": [
       "Date\n",
       "2016-07-31     99.473333\n",
       "2016-08-31    107.665217\n",
       "2016-09-30    110.857143\n",
       "2016-10-31    115.707143\n",
       "2016-11-30    110.154286\n",
       "2016-12-31    114.335714\n",
       "2017-01-31    119.570000\n",
       "2017-02-28    133.713684\n",
       "2017-03-31    140.617826\n",
       "2017-04-30    142.886842\n",
       "2017-05-31    152.227727\n",
       "2017-06-30    147.831364\n",
       "2017-07-31    143.625000\n",
       "Freq: M, Name: Close, dtype: float64"
      ]
     },
     "execution_count": 14,
     "metadata": {},
     "output_type": "execute_result"
    }
   ],
   "source": [
    "df.Close.resample('M').mean()"
   ]
  },
  {
   "cell_type": "code",
   "execution_count": 17,
   "metadata": {
    "scrolled": true
   },
   "outputs": [
    {
     "data": {
      "text/plain": [
       "Date\n",
       "2016-07-17    AxesSubplot(0.125,0.125;0.775x0.755)\n",
       "2016-07-24    AxesSubplot(0.125,0.125;0.775x0.755)\n",
       "2016-07-31    AxesSubplot(0.125,0.125;0.775x0.755)\n",
       "2016-08-07    AxesSubplot(0.125,0.125;0.775x0.755)\n",
       "2016-08-14    AxesSubplot(0.125,0.125;0.775x0.755)\n",
       "2016-08-21    AxesSubplot(0.125,0.125;0.775x0.755)\n",
       "2016-08-28    AxesSubplot(0.125,0.125;0.775x0.755)\n",
       "2016-09-04    AxesSubplot(0.125,0.125;0.775x0.755)\n",
       "2016-09-11    AxesSubplot(0.125,0.125;0.775x0.755)\n",
       "2016-09-18    AxesSubplot(0.125,0.125;0.775x0.755)\n",
       "2016-09-25    AxesSubplot(0.125,0.125;0.775x0.755)\n",
       "2016-10-02    AxesSubplot(0.125,0.125;0.775x0.755)\n",
       "2016-10-09    AxesSubplot(0.125,0.125;0.775x0.755)\n",
       "2016-10-16    AxesSubplot(0.125,0.125;0.775x0.755)\n",
       "2016-10-23    AxesSubplot(0.125,0.125;0.775x0.755)\n",
       "2016-10-30    AxesSubplot(0.125,0.125;0.775x0.755)\n",
       "2016-11-06    AxesSubplot(0.125,0.125;0.775x0.755)\n",
       "2016-11-13    AxesSubplot(0.125,0.125;0.775x0.755)\n",
       "2016-11-20    AxesSubplot(0.125,0.125;0.775x0.755)\n",
       "2016-11-27    AxesSubplot(0.125,0.125;0.775x0.755)\n",
       "2016-12-04    AxesSubplot(0.125,0.125;0.775x0.755)\n",
       "2016-12-11    AxesSubplot(0.125,0.125;0.775x0.755)\n",
       "2016-12-18    AxesSubplot(0.125,0.125;0.775x0.755)\n",
       "2016-12-25    AxesSubplot(0.125,0.125;0.775x0.755)\n",
       "2017-01-01    AxesSubplot(0.125,0.125;0.775x0.755)\n",
       "2017-01-08    AxesSubplot(0.125,0.125;0.775x0.755)\n",
       "2017-01-15    AxesSubplot(0.125,0.125;0.775x0.755)\n",
       "2017-01-22    AxesSubplot(0.125,0.125;0.775x0.755)\n",
       "2017-01-29    AxesSubplot(0.125,0.125;0.775x0.755)\n",
       "2017-02-05    AxesSubplot(0.125,0.125;0.775x0.755)\n",
       "2017-02-12    AxesSubplot(0.125,0.125;0.775x0.755)\n",
       "2017-02-19    AxesSubplot(0.125,0.125;0.775x0.755)\n",
       "2017-02-26    AxesSubplot(0.125,0.125;0.775x0.755)\n",
       "2017-03-05    AxesSubplot(0.125,0.125;0.775x0.755)\n",
       "2017-03-12    AxesSubplot(0.125,0.125;0.775x0.755)\n",
       "2017-03-19    AxesSubplot(0.125,0.125;0.775x0.755)\n",
       "2017-03-26    AxesSubplot(0.125,0.125;0.775x0.755)\n",
       "2017-04-02    AxesSubplot(0.125,0.125;0.775x0.755)\n",
       "2017-04-09    AxesSubplot(0.125,0.125;0.775x0.755)\n",
       "2017-04-16    AxesSubplot(0.125,0.125;0.775x0.755)\n",
       "2017-04-23    AxesSubplot(0.125,0.125;0.775x0.755)\n",
       "2017-04-30    AxesSubplot(0.125,0.125;0.775x0.755)\n",
       "2017-05-07    AxesSubplot(0.125,0.125;0.775x0.755)\n",
       "2017-05-14    AxesSubplot(0.125,0.125;0.775x0.755)\n",
       "2017-05-21    AxesSubplot(0.125,0.125;0.775x0.755)\n",
       "2017-05-28    AxesSubplot(0.125,0.125;0.775x0.755)\n",
       "2017-06-04    AxesSubplot(0.125,0.125;0.775x0.755)\n",
       "2017-06-11    AxesSubplot(0.125,0.125;0.775x0.755)\n",
       "2017-06-18    AxesSubplot(0.125,0.125;0.775x0.755)\n",
       "2017-06-25    AxesSubplot(0.125,0.125;0.775x0.755)\n",
       "2017-07-02    AxesSubplot(0.125,0.125;0.775x0.755)\n",
       "2017-07-09    AxesSubplot(0.125,0.125;0.775x0.755)\n",
       "dtype: object"
      ]
     },
     "execution_count": 17,
     "metadata": {},
     "output_type": "execute_result"
    },
    {
     "data": {
      "image/png": "[encoded data removed]",
      "text/plain": [
       "<Figure size 432x288 with 1 Axes>"
      ]
     },
     "metadata": {
      "needs_background": "light"
     },
     "output_type": "display_data"
    }
   ],
   "source": [
    "%matplotlib inline\n",
    "\n",
    "df.Close.resample('W').plot()"
   ]
  },
  {
   "cell_type": "code",
   "execution_count": 18,
   "metadata": {
    "scrolled": true
   },
   "outputs": [
    {
     "data": {
      "text/plain": [
       "Date\n",
       "2016-07-17    AxesSubplot(0.125,0.125;0.775x0.755)\n",
       "2016-07-24    AxesSubplot(0.125,0.125;0.775x0.755)\n",
       "2016-07-31    AxesSubplot(0.125,0.125;0.775x0.755)\n",
       "2016-08-07    AxesSubplot(0.125,0.125;0.775x0.755)\n",
       "2016-08-14    AxesSubplot(0.125,0.125;0.775x0.755)\n",
       "2016-08-21    AxesSubplot(0.125,0.125;0.775x0.755)\n",
       "2016-08-28    AxesSubplot(0.125,0.125;0.775x0.755)\n",
       "2016-09-04    AxesSubplot(0.125,0.125;0.775x0.755)\n",
       "2016-09-11    AxesSubplot(0.125,0.125;0.775x0.755)\n",
       "2016-09-18    AxesSubplot(0.125,0.125;0.775x0.755)\n",
       "2016-09-25    AxesSubplot(0.125,0.125;0.775x0.755)\n",
       "2016-10-02    AxesSubplot(0.125,0.125;0.775x0.755)\n",
       "2016-10-09    AxesSubplot(0.125,0.125;0.775x0.755)\n",
       "2016-10-16    AxesSubplot(0.125,0.125;0.775x0.755)\n",
       "2016-10-23    AxesSubplot(0.125,0.125;0.775x0.755)\n",
       "2016-10-30    AxesSubplot(0.125,0.125;0.775x0.755)\n",
       "2016-11-06    AxesSubplot(0.125,0.125;0.775x0.755)\n",
       "2016-11-13    AxesSubplot(0.125,0.125;0.775x0.755)\n",
       "2016-11-20    AxesSubplot(0.125,0.125;0.775x0.755)\n",
       "2016-11-27    AxesSubplot(0.125,0.125;0.775x0.755)\n",
       "2016-12-04    AxesSubplot(0.125,0.125;0.775x0.755)\n",
       "2016-12-11    AxesSubplot(0.125,0.125;0.775x0.755)\n",
       "2016-12-18    AxesSubplot(0.125,0.125;0.775x0.755)\n",
       "2016-12-25    AxesSubplot(0.125,0.125;0.775x0.755)\n",
       "2017-01-01    AxesSubplot(0.125,0.125;0.775x0.755)\n",
       "2017-01-08    AxesSubplot(0.125,0.125;0.775x0.755)\n",
       "2017-01-15    AxesSubplot(0.125,0.125;0.775x0.755)\n",
       "2017-01-22    AxesSubplot(0.125,0.125;0.775x0.755)\n",
       "2017-01-29    AxesSubplot(0.125,0.125;0.775x0.755)\n",
       "2017-02-05    AxesSubplot(0.125,0.125;0.775x0.755)\n",
       "2017-02-12    AxesSubplot(0.125,0.125;0.775x0.755)\n",
       "2017-02-19    AxesSubplot(0.125,0.125;0.775x0.755)\n",
       "2017-02-26    AxesSubplot(0.125,0.125;0.775x0.755)\n",
       "2017-03-05    AxesSubplot(0.125,0.125;0.775x0.755)\n",
       "2017-03-12    AxesSubplot(0.125,0.125;0.775x0.755)\n",
       "2017-03-19    AxesSubplot(0.125,0.125;0.775x0.755)\n",
       "2017-03-26    AxesSubplot(0.125,0.125;0.775x0.755)\n",
       "2017-04-02    AxesSubplot(0.125,0.125;0.775x0.755)\n",
       "2017-04-09    AxesSubplot(0.125,0.125;0.775x0.755)\n",
       "2017-04-16    AxesSubplot(0.125,0.125;0.775x0.755)\n",
       "2017-04-23    AxesSubplot(0.125,0.125;0.775x0.755)\n",
       "2017-04-30    AxesSubplot(0.125,0.125;0.775x0.755)\n",
       "2017-05-07    AxesSubplot(0.125,0.125;0.775x0.755)\n",
       "2017-05-14    AxesSubplot(0.125,0.125;0.775x0.755)\n",
       "2017-05-21    AxesSubplot(0.125,0.125;0.775x0.755)\n",
       "2017-05-28    AxesSubplot(0.125,0.125;0.775x0.755)\n",
       "2017-06-04    AxesSubplot(0.125,0.125;0.775x0.755)\n",
       "2017-06-11    AxesSubplot(0.125,0.125;0.775x0.755)\n",
       "2017-06-18    AxesSubplot(0.125,0.125;0.775x0.755)\n",
       "2017-06-25    AxesSubplot(0.125,0.125;0.775x0.755)\n",
       "2017-07-02    AxesSubplot(0.125,0.125;0.775x0.755)\n",
       "2017-07-09    AxesSubplot(0.125,0.125;0.775x0.755)\n",
       "dtype: object"
      ]
     },
     "execution_count": 18,
     "metadata": {},
     "output_type": "execute_result"
    },
    {
     "data": {
      "image/png": "[encoded data removed]",
      "text/plain": [
       "<Figure size 432x288 with 1 Axes>"
      ]
     },
     "metadata": {
      "needs_background": "light"
     },
     "output_type": "display_data"
    }
   ],
   "source": [
    "df.Close.resample('W').plot(kind = \"bar\")"
   ]
  },
  {
   "cell_type": "code",
   "execution_count": 20,
   "metadata": {},
   "outputs": [
    {
     "data": {
      "text/plain": [
       "<matplotlib.axes._subplots.AxesSubplot at 0x1c17014efc8>"
      ]
     },
     "execution_count": 20,
     "metadata": {},
     "output_type": "execute_result"
    },
    {
     "data": {
      "image/png": "[encoded data removed]",
      "text/plain": [
       "<Figure size 432x288 with 1 Axes>"
      ]
     },
     "metadata": {
      "needs_background": "light"
     },
     "output_type": "display_data"
    }
   ],
   "source": [
    "df.Close.plot()"
   ]
  }
 ],
 "metadata": {
  "kernelspec": {
   "display_name": "Python 3",
   "language": "python",
   "name": "python3"
  },
  "language_info": {
   "codemirror_mode": {
    "name": "ipython",
    "version": 3
   },
   "file_extension": ".py",
   "mimetype": "text/x-python",
   "name": "python",
   "nbconvert_exporter": "python",
   "pygments_lexer": "ipython3",
   "version": "3.7.4"
  }
 },
 "nbformat": 4,
 "nbformat_minor": 2
}
